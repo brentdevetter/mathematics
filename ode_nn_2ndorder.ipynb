{
  "nbformat": 4,
  "nbformat_minor": 0,
  "metadata": {
    "colab": {
      "name": "ode_nn_2ndorder.ipynb",
      "version": "0.3.2",
      "views": {},
      "default_view": {},
      "provenance": []
    },
    "kernelspec": {
      "name": "python3",
      "display_name": "Python 3"
    }
  },
  "cells": [
    {
      "metadata": {
        "id": "Q7rSy8meD216",
        "colab_type": "text"
      },
      "cell_type": "markdown",
      "source": [
        "# Solving a 2nd order ODE with a feed-forward neural network using Autograd\n",
        "\n",
        "Ordinary differential equations (ODEs) are essential for modeling physical and chemical phenomena. While other methods exist (such as the finite-difference method) are excellent at numerically solving ODEs, neural networks offer a promising alternative to numerically calculate the solution to these problems. \n",
        "\n",
        "In this notebook, we consider how to numerically solve an important 2nd order ODE that arises in physics and chemistry using a multi-layer perceptron neural network. \n",
        "\n",
        "Consider the following 2nd order ODE:\n",
        "\n",
        "\\begin{align}\n",
        "\\frac{d^2y(t)}{dt^2} = -k^2 y(t) \n",
        "\\end{align}\n",
        "\n",
        "The analytical solution to this ODE is $y(t) = \\sin(kx)$ where $$y(0) = 0$$ $$y'(0) = k$$\n",
        "\n",
        "\n",
        "References: \\\\\n",
        "[1] J. Kitchin, example of solving 1D ODE with NN http://kitchingroup.cheme.cmu.edu/blog/2017/11/28/Solving-ODEs-with-a-neural-network-and-autograd/ \\\\\n",
        "[2] Sine activation functions https://openreview.net/pdf?id=Sks3zF9eg \\\\\n",
        "[3] Long short-term memory neural network (not implemented here) https://link.springer.com/chapter/10.1007/978-3-319-47054-2_10/fulltext.html \\\\\n",
        "[4] Solving DE using neural networks https://becominghuman.ai/neural-networks-for-solving-differential-equations-fa230ac5e04c\n"
      ]
    },
    {
      "metadata": {
        "id": "37qIER9UG09y",
        "colab_type": "text"
      },
      "cell_type": "markdown",
      "source": [
        ""
      ]
    },
    {
      "metadata": {
        "id": "bf2S-_FKDttm",
        "colab_type": "code",
        "colab": {
          "autoexec": {
            "startup": false,
            "wait_interval": 0
          },
          "output_extras": [
            {
              "item_id": 1
            }
          ],
          "base_uri": "https://localhost:8080/",
          "height": 73
        },
        "outputId": "c2a68da9-129d-4401-b32f-63d9c38a5622",
        "executionInfo": {
          "status": "ok",
          "timestamp": 1521780672232,
          "user_tz": 420,
          "elapsed": 2580,
          "user": {
            "displayName": "Brent DeVetter",
            "photoUrl": "https://lh3.googleusercontent.com/a/default-user=s128",
            "userId": "110290226878953433531"
          }
        }
      },
      "cell_type": "code",
      "source": [
        "# Import necessary libararies / functions\n",
        "!pip install autograd\n",
        "\n",
        "from autograd import grad, elementwise_grad\n",
        "from autograd.misc.optimizers import adam\n",
        "import autograd.numpy as np\n",
        "import matplotlib.pyplot as plt\n",
        "import numpy.random as npr\n",
        "import math\n",
        "\n",
        "# Possible activation functions\n",
        "def swish(x):\n",
        "    return x / (1.0 + np.exp(-x))\n",
        "\n",
        "def sigmoid(x):\n",
        "    return 1.0 / (1.0 + np.exp(-x))\n",
        "  \n",
        "def periodic(x):\n",
        "    return np.sin(x)\n",
        "  \n",
        "def tanh(x):\n",
        "    return np.tanh(x)"
      ],
      "execution_count": 2,
      "outputs": [
        {
          "output_type": "stream",
          "text": [
            "Requirement already satisfied: autograd in /usr/local/lib/python3.6/dist-packages\r\n",
            "Requirement already satisfied: future>=0.15.2 in /usr/local/lib/python3.6/dist-packages (from autograd)\r\n",
            "Requirement already satisfied: numpy>=1.12 in /usr/local/lib/python3.6/dist-packages (from autograd)\r\n"
          ],
          "name": "stdout"
        }
      ]
    },
    {
      "metadata": {
        "id": "mXbE4I-VK0uM",
        "colab_type": "text"
      },
      "cell_type": "markdown",
      "source": [
        "As described in reference [4], we solve the ODE by minimizing an objective function.  \\\n",
        "\n",
        "\\begin{align}\n",
        "zeq = \\frac{d^2y(t)}{dt^2} + k^2 y(t) = 0 \\\\ \n",
        "ic  = \\frac{dy(0)}{dt} - k = 0 \\\\\n",
        "ic2 = \\frac{d^2y(0)}{dt^2} = 0 \n",
        "\\end{align}\n",
        "\n",
        "\\begin{align}\n",
        "\\Psi = zeq^2 + ic^2 + ic2^2 \\\\ \n",
        "\\end{align}\n",
        "\n",
        "Where $\\Psi$ is minimized. First we attempt calculating the solution to this ODE using a 3-layer neural network with 100 hidden nodes. \n",
        "    "
      ]
    },
    {
      "metadata": {
        "id": "oEkZzuXOKGnC",
        "colab_type": "code",
        "colab": {
          "autoexec": {
            "startup": false,
            "wait_interval": 0
          },
          "output_extras": [
            {
              "item_id": 8
            }
          ],
          "base_uri": "https://localhost:8080/",
          "height": 166
        },
        "outputId": "f4c74f6e-cef3-4f8b-c121-31b4ffac0afa",
        "executionInfo": {
          "status": "ok",
          "timestamp": 1521783036892,
          "user_tz": 420,
          "elapsed": 70974,
          "user": {
            "displayName": "Brent DeVetter",
            "photoUrl": "https://lh3.googleusercontent.com/a/default-user=s128",
            "userId": "110290226878953433531"
          }
        }
      },
      "cell_type": "code",
      "source": [
        "# For simplicity, assume k is 1\n",
        "k = 1\n",
        "  \n",
        "t = np.linspace(0, math.pi*3).reshape((-1, 1))\n",
        "\n",
        "def ode_func(params, inputs):\n",
        "  for W, b in params:\n",
        "    outputs = np.dot(inputs, W) + b          \n",
        "    inputs = swish(outputs)                   # Activation function\n",
        "  return outputs\n",
        "\n",
        "def ode_func_periodic(params, inputs):\n",
        "  for W, b in params:\n",
        "    outputs = np.dot(inputs, W) + b          \n",
        "    inputs = periodic(outputs)                # Activation function\n",
        "  return outputs\n",
        "\n",
        "\n",
        "# Derivatives\n",
        "deriv_ode_func = elementwise_grad(ode_func, 1)\n",
        "deriv_2_ode_func = elementwise_grad(deriv_ode_func, 1)\n",
        "\n",
        "deriv_ode_func_periodic = elementwise_grad(ode_func_periodic, 1)\n",
        "deriv_2_ode_func_periodic = elementwise_grad(deriv_ode_func_periodic, 1)\n",
        "\n",
        "def setup_init_nn(scale, layer_sizes):\n",
        "  rs = npr.RandomState(0)\n",
        "  \n",
        "  return [ (rs.randn(insize, outsize) * scale, # weight matrix\n",
        "            rs.randn(outsize) * scale)         # bias vector\n",
        "           for insize, outsize in zip(layer_sizes[:-1], layer_sizes[1:])]\n",
        "\n",
        "# This function is minimized\n",
        "def objective(params, step):\n",
        "  zeq = deriv_2_ode_func(params, t) + k*k * ode_func(params, t)\n",
        "  ic = deriv_ode_func(params, 0.0) - k\n",
        "  ic2 = deriv_2_ode_func(params, 0.0)\n",
        "  return np.mean(zeq**2) + ic**2 + ic2**2\n",
        "\n",
        "# This function is minimized (periodic)\n",
        "def objective_periodic(params, step):\n",
        "  zeq = deriv_2_ode_func_periodic(params, t) + k*k * ode_func_periodic(params, t)\n",
        "  ic = deriv_ode_func_periodic(params, 0.0) - k\n",
        "  ic2 = deriv_2_ode_func_periodic(params, 0.0)\n",
        "  return np.mean(zeq**2) + ic**2 + ic2**2\n",
        "\n",
        "def callback(params, step, g):\n",
        "  if step % 1000 == 0:\n",
        "    print(\"Iteration: {0:3d} Objective: {1}\".format(step, objective(params, step)))\n",
        "\n",
        "params_swish = setup_init_nn(0.1, layer_sizes = [1, 100, 1])  \n",
        "params_swish = adam(grad(objective), params_swish, step_size = 0.001, num_iters = 4000, callback = callback)\n",
        "\n",
        "params_periodic = setup_init_nn(0.1, layer_sizes = [1, 100, 1])  \n",
        "params_periodic = adam(grad(objective_periodic), params_periodic, step_size = 0.001, num_iters = 4000, callback = callback)"
      ],
      "execution_count": 25,
      "outputs": [
        {
          "output_type": "stream",
          "text": [
            "Iteration:   0 Objective: 0.9326984741285588\n",
            "Iteration: 1000 Objective: 0.04832810713161206\n",
            "Iteration: 2000 Objective: 0.029326565413063253\n",
            "Iteration: 3000 Objective: 0.026587576505892135\n",
            "Iteration:   0 Objective: 0.9326984741285588\n",
            "Iteration: 1000 Objective: 0.5572130997130711\n",
            "Iteration: 2000 Objective: 0.8146232550700137\n",
            "Iteration: 3000 Objective: 0.9105179229672686\n"
          ],
          "name": "stdout"
        }
      ]
    },
    {
      "metadata": {
        "id": "CpbG5uhALuR-",
        "colab_type": "code",
        "colab": {
          "autoexec": {
            "startup": false,
            "wait_interval": 0
          },
          "output_extras": [
            {
              "item_id": 1
            },
            {
              "item_id": 2
            }
          ],
          "base_uri": "https://localhost:8080/",
          "height": 384
        },
        "outputId": "935a17e7-8ae2-4e40-d49a-05d5c30aa4bc",
        "executionInfo": {
          "status": "ok",
          "timestamp": 1521783427620,
          "user_tz": 420,
          "elapsed": 578,
          "user": {
            "displayName": "Brent DeVetter",
            "photoUrl": "https://lh3.googleusercontent.com/a/default-user=s128",
            "userId": "110290226878953433531"
          }
        }
      },
      "cell_type": "code",
      "source": [
        "tfit = np.linspace(0, math.pi*6).reshape(-1, 1)\n",
        "import matplotlib.pyplot as plt\n",
        "plt.plot(tfit, ode_func(params_swish, tfit), 'r--', label='NN Solution (swish)')\n",
        "plt.plot(tfit, ode_func_periodic(params_periodic, tfit), label='NN Solution (sine)')\n",
        "plt.plot(tfit, np.sin(k*tfit), 'k', label='Analytic Solution')\n",
        "plt.plot()\n",
        "plt.legend()\n",
        "plt.xlabel('t')\n",
        "plt.ylabel('$y(t)$')\n",
        "plt.xlim([0, math.pi*6])\n",
        "plt.ylim([-4, 4])"
      ],
      "execution_count": 36,
      "outputs": [
        {
          "output_type": "execute_result",
          "data": {
            "text/plain": [
              "(-4, 4)"
            ]
          },
          "metadata": {
            "tags": []
          },
          "execution_count": 36
        },
        {
          "output_type": "display_data",
          "data": {
            "image/png": "[encoded data removed]",
            "text/plain": [
              "<matplotlib.figure.Figure at 0x7f4726d259b0>"
            ]
          },
          "metadata": {
            "tags": []
          }
        }
      ]
    },
    {
      "metadata": {
        "id": "29ZCxRfuVsp0",
        "colab_type": "text"
      },
      "cell_type": "markdown",
      "source": [
        "The above figure shows that using a sine activation function results in a significantly better fit to data beyond the interval $[0, 3\\pi]$, which the neural network was trained. Of course, this is a tad artificial because the analytic solution is sinusoidal. Additional experimention is necessary to determine how well an semi-arbitrary periodic function behaves with respect to different activation functions. "
      ]
    }
  ]
}